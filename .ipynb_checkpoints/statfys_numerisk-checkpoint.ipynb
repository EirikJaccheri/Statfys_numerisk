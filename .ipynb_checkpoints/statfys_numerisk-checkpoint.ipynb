{
 "cells": [
  {
<<<<<<< HEAD
   "cell_type": "markdown",
   "metadata": {},
   "source": [
    "# Computational project in  TFY4230 statistical physics\n",
    "### Eirik Jaccheri Høydalsvik, Hans Gløckner Giil"
   ]
  },
  {
   "cell_type": "markdown",
   "metadata": {},
   "source": [
    "## Introduction\n",
    "In this report, the motion of gas particles in a two dimensional circular box is found by direct integration of Newton's equations using the verlet algorithm. The applicability of statistical mechanics is discussed for different initial conditions and for different number of particles.\n",
    "The walls of the box is modeled by the potential $$ V_w(r_i)= \\left\\{\n",
    "\\begin{array}{ll}\n",
    "      \\frac{K}{2} (r_i - R)^2 & r_i > \\text{R}\\\\\n",
    "      0 & r_i < \\text{R}, \\\\\n",
    "\\end{array} \n",
    "\\right.  $$   \n",
    "where R is the radius of the box, and $r_i$ the position of particle $i$. The potential between the particles is given by $$ V(r_i)=   \\left\\{\n",
    "\\begin{array}{ll}\n",
    "      \\epsilon \\bigg[ \\big(\\frac{a}{r_{ij}}\\big)^{12} - 2 \\big(\\frac{a}{r_{ij}}\\big)^6 + 1  \\bigg] & r_{ij} < a\\\\\n",
    "      0 & r_{ij} > a,  \\\\\n",
    "\\end{array} \n",
    "\\right.$$\n",
    "where $r_{ij}$ denotes the distance between particle $i$ and particle $j$\n",
    "The force on a particle is then given by \n",
    "$$ \\vec{F_i} = - \\frac{\\partial{V_w}}{\\partial \\vec{r_i}} - \\sum_{i \\neq j}\\frac{\\partial{V}}{\\partial \\vec{r_i}}. $$\n",
    "In the verlet algorithm, the position and velocity of the particles are updated by setting\n",
    "$$ \\vec{r_i}(t + \\Delta t) = \\vec{r_i(t)} + \\ \\vec{v_i}(t) \\Delta t + \\frac{1}{2} \\frac{\\vec{F(t)}\\Delta t^2}{m}\\\\\n",
    "\\vec{v_i}(t + \\Delta t) = \\vec{v_i}(t) + \\frac{\\vec{F_i}(t) + \\vec{F_i}(t + \\Delta t)}{2m}\\Delta t\\\\, $$\n",
    "where m is the mass of the particle and $\\Delta t$ is the time step.\n",
    "In this problem, the mass $m$ and particle radius $a$ is set to $1$. The energy is also rescaled such that the initial initial energy is $1$."
   ]
  },
  {
=======
>>>>>>> 78baa66f381469f6bedda479130d1dba6651bd63
   "cell_type": "code",
   "execution_count": null,
   "metadata": {},
   "outputs": [],
   "source": [
<<<<<<< HEAD
    "\n",
=======
>>>>>>> 78baa66f381469f6bedda479130d1dba6651bd63
    "import numpy as np\n",
    "import matplotlib.pyplot as plt\n",
    "import matplotlib.animation as animation\n",
    "\n",
    "def init_pos(radius,numberOfParticles):\n",
    "    to_close = True\n",
    "    while(to_close):\n",
    "        to_close = False\n",
    "        r = np.random.uniform(0,radius, numberOfParticles)\n",
    "        theta = np.random.uniform(0,2*np.pi, numberOfParticles)\n",
    "        pos_x = r * np.cos(theta)\n",
    "        pos_y = r * np.sin(theta)\n",
<<<<<<< HEAD
    "            \n",
=======
>>>>>>> 78baa66f381469f6bedda479130d1dba6651bd63
    "        for i in range(numberOfParticles):\n",
    "            for j in range(i+1,numberOfParticles):\n",
    "                d = np.sqrt((pos_x[i] - pos_x[j])**2 + (pos_y[i] - pos_y[j])**2)\n",
    "                if d < 1:\n",
    "                    to_close = True\n",
    "                    break\n",
    "            if to_close:\n",
    "                break\n",
    "    return pos_x, pos_y\n",
    "\n",
    "def random_velocities(numberOfParticles):\n",
    "    angles =  np.random.uniform(-np.pi, np.pi,numberOfParticles)\n",
    "    vx = np.cos(angles) / np.sqrt(numberOfParticles / 2)  \n",
    "    vy = np.sin(angles) / np.sqrt(numberOfParticles / 2)  \n",
<<<<<<< HEAD
    "    return vx, vy     \n",
    "\n",
    "epsilon = 0.5\n",
    "def billiard(numberOfParticles, numberOfIterations, radius, dt, KK):\n",
    "    pos = np.zeros((2, numberOfParticles, numberOfIterations+1))\n",
    "    pos[0,:,0], pos[1,:,0] = init_pos(radius,numberOfParticles)\n",
    "\n",
    "    vx, vy = random_velocities(numberOfParticles)\n",
    "    vx_list = np.zeros(numberOfIterations)\n",
    "\n",
    "    Pot = np.zeros(numberOfIterations)\n",
    "    kinetic = np.zeros(numberOfIterations)\n",
    "    for i in range(numberOfIterations):\n",
    "        vx_list[i] = vx[0]\n",
=======
    "    return vx, vy\n",
    "\n",
    "def vel_one_particle(numberOfParticles):\n",
    "    vx = np.zeros(numberOfParticles)\n",
    "    vy = np.zeros(numberOfParticles)\n",
    "    angle = np.random.uniform(-np.pi,np.pi, 1)\n",
    "    vx[0] = np.cos(angle) * np.sqrt(2)\n",
    "    vy[0] = np.sin(angle) * np.sqrt(2)\n",
    "    return vx, vy\n",
    "\n",
    "epsilon = 0.5\n",
    "def billiard(numberOfParticles, numberOfIterations, radius, dt, KK, vel_dist = random_velocities):\n",
    "    pos = np.zeros((2, numberOfParticles, numberOfIterations+1))\n",
    "    pos[0,:,0], pos[1,:,0] = init_pos(radius,numberOfParticles)\n",
    "\n",
    "    vx, vy = vel_dist(numberOfParticles)\n",
    "    vx_list = np.zeros((numberOfIterations,numberOfParticles,))\n",
    "    vy_list = np.zeros((numberOfIterations,numberOfParticles,))\n",
    "\n",
    "    Pot = np.zeros(numberOfIterations)\n",
    "    kinetic = np.zeros(numberOfIterations)\n",
    "    \n",
    "    P = 0\n",
    "    for i in range(numberOfIterations):\n",
    "        vx_list[i] = vx\n",
    "        vy_list[i] = vy\n",
>>>>>>> 78baa66f381469f6bedda479130d1dba6651bd63
    "        distance = np.sqrt(pos[0,:,i]**2 + pos[1,:,i]**2)\n",
    "        acceleration = np.zeros((2, numberOfParticles))\n",
    "\n",
    "\n",
    "        #test if we are outside the circle and calculate force from wall\n",
    "        acceleration[0, distance > radius] = -KK * (distance[distance > radius] - radius) * pos[0, distance > radius, i] / distance[distance > radius]\n",
    "        acceleration[1, distance > radius] = -KK * (distance[distance > radius] - radius) * pos[1, distance > radius, i] / distance[distance > radius]\n",
    "        for j in range(numberOfParticles):\n",
    "                for k in range(j+1, numberOfParticles):\n",
    "                    d_jk = np.sqrt((pos[0,j,i] - pos[0,k,i])**2 + (pos[1,j,i] - pos[1,k,i])**2)\n",
    "                    if d_jk < 1:\n",
    "                        F = 12 * epsilon * (1/d_jk**7 - 1/d_jk**13)\n",
    "                        \n",
    "                        acceleration[0,j] += - F * (pos[0,j,i] - pos[0,k,i]) / d_jk \n",
    "                        acceleration[1,j] += - F * (pos[1,j,i] - pos[1,k,i]) / d_jk \n",
    "                        acceleration[0,k] += F * (pos[0,j,i] - pos[0,k,i]) / d_jk \n",
    "                        acceleration[1,k] += F * (pos[1,j,i] - pos[1,k,i]) / d_jk\n",
    "                        \n",
    "                        Pot[i] += epsilon * (1/d_jk**12 - 2/d_jk**6 + 1)\n",
    "\n",
    "        #update positions\n",
    "        pos[0, :, i+1] =  pos[0, :, i] + vx * dt + (acceleration[0, :] * dt**2)/2\n",
    "        pos[1, :, i+1] =  pos[1, :, i] + vy * dt + (acceleration[1, :] * dt**2)/2\n",
    "        \n",
    "       \n",
    "        distance = np.sqrt(pos[0,:,i+1]**2 + pos[1,:,i+1]**2)\n",
    "        acceleration2 = np.zeros((2, numberOfParticles))\n",
    "\n",
    "        #test if we are outside the circle and calculate force from wall\n",
    "        acceleration2[0, distance > radius] = -KK * (distance[distance > radius] - radius) * pos[0, distance > radius, i+1] / distance[distance > radius]\n",
    "        acceleration2[1, distance > radius] = -KK * (distance[distance > radius] - radius) * pos[1, distance > radius, i+1] / distance[distance > radius]\n",
    "        for j in range(numberOfParticles):\n",
    "                for k in range(j+1, numberOfParticles):\n",
    "                    d_jk = np.sqrt((pos[0,j,i+1] - pos[0,k,i+1])**2 + (pos[1,j,i+1] - pos[1,k,i+1])**2)\n",
    "                    if d_jk < 1:\n",
    "                        F = 12 * epsilon * (1/d_jk**7 - 1/d_jk**13)\n",
    "                        \n",
    "                        acceleration2[0,j] += - F * (pos[0,j,i+1] - pos[0,k,i+1]) / d_jk \n",
    "                        acceleration2[1,j] += - F * (pos[1,j,i+1] - pos[1,k,i+1]) / d_jk \n",
    "                        acceleration2[0,k] += F * (pos[0,j,i+1] - pos[0,k,i+1]) / d_jk \n",
    "                        acceleration2[1,k] += F * (pos[1,j,i+1] - pos[1,k,i+1]) / d_jk\n",
    "                        \n",
    "\n",
<<<<<<< HEAD
    "        #calculate Energy\n",
    "        Pot[i] += KK/2 * (distance - radius)**2 @ (distance>radius)\n",
    "        kinetic[i] = np.sum(1/2 * (vx**2 + vy**2))\n",
=======
    "        #calculate Energy and pressure\n",
    "        Pot[i] += KK/2 * (distance - radius)**2 @ (distance>radius)\n",
    "        kinetic[i] = np.sum(1/2 * (vx**2 + vy**2))\n",
    "        P += KK * (distance - radius) @ (distance>radius)\n",
>>>>>>> 78baa66f381469f6bedda479130d1dba6651bd63
    "\n",
    "        #update velocities\n",
    "        vx += (acceleration[0,:] + acceleration2[0,:])/2 * dt\n",
    "        vy += (acceleration[1,:] + acceleration2[1,:])/2 * dt\n",
    "\n",
<<<<<<< HEAD
    "\n",
    "    return pos, Pot, kinetic, vx_list"
=======
    "    P = P/ (2 * np.pi * radius) / numberOfIterations \n",
    "    Energy = Pot + kinetic\n",
    "    return pos, Energy, vx_list, vy_list, P\n"
>>>>>>> 78baa66f381469f6bedda479130d1dba6651bd63
   ]
  },
  {
   "cell_type": "markdown",
   "metadata": {},
   "source": [
<<<<<<< HEAD
    "## Exercise 1a)\n",
    "In figure $1$ the trajectory is plotted for four different random starting positions and velocities for a fixed time of $150$ and with a time step of $0.005$.\n",
    "In figure $2$ the trajectory is plotted for the same duration, bur for different time steps. The samallest step length that gives satisfactionary answers is $0.02."
=======
    "## Excercise 2a\n",
    "Figure (xxx) shows the energy and particle trajectory for two, three and ten particles. The particle trajectory of two particles is plotted for  a duration of $t = ???$ (left) and $t = ???$ (center). It is clear that scattering events occur in all the plots because the particles suddenly change direction in the middle of the box. The total energy is conserved except for small oscilations associated with the collisons with the wall."
>>>>>>> 78baa66f381469f6bedda479130d1dba6651bd63
   ]
  },
  {
   "cell_type": "code",
   "execution_count": null,
   "metadata": {},
   "outputs": [],
   "source": [
<<<<<<< HEAD
    "def plot_1a():\n",
    "    T = 150\n",
    "    dt = 0.005\n",
    "    N = int(T / dt)\n",
    "    num_part = 1\n",
    "    radius = 10\n",
    "    KK = 5\n",
    "    \n",
    "    #Plotting trajectory four times:\n",
    "    fig, ax= plt.subplots(2,2, figsize = (10, 10))\n",
    "    fig.suptitle(\"Figure 1\", y = 0)\n",
    "    pos1 = billiard(num_part, N, radius, dt, KK)[0]\n",
    "    ax[0,0].plot(pos1[0, 0, ::100], pos1[1, 0, ::100])\n",
    "    ax[0,0].set_xlabel(\"x\")\n",
    "    ax[0,0].set_ylabel(\"y\")\n",
    "\n",
    "    pos2= billiard(num_part, N, radius, dt, KK)[0]\n",
    "    ax[0,1].plot(pos2[0, 0, ::100], pos2[1, 0, ::100])\n",
    "    ax[0,1].set_xlabel(\"x\")\n",
    "    ax[0,1].set_ylabel(\"y\")\n",
    "\n",
    "    pos3 = billiard(num_part, N, radius, dt, KK)[0]\n",
    "    ax[1,0].plot(pos3[0, 0, ::100], pos3[1, 0, ::100])\n",
    "    ax[1,0].set_xlabel(\"x\")\n",
    "    ax[1,0].set_ylabel(\"y\")\n",
    "\n",
    "    pos4= billiard(num_part, N, radius, dt, KK)[0]\n",
    "    ax[1,1].plot(pos4[0, 0, ::100], pos4[1, 0, ::100])\n",
    "    ax[1,1].set_xlabel(\"x\")\n",
    "    ax[1,1].set_ylabel(\"y\")\n",
    "\n",
    "    plt.show()\n",
    "\n",
    "    #Plotting for different time steps:\n",
    "    fig, ax= plt.subplots(2,2, figsize = (10, 10))\n",
    "    fig.suptitle(\"FIgure 2\", y = 0)\n",
    "    dt1, dt2, dt3, dt4 = 0.005, 0.01, 0.02, 0.1\n",
    "    N1, N2, N3, N4 = int(T / dt1), int(T / dt2),  int(T / dt3), int( T / dt4)\n",
    "\n",
    "    pos1, pot1, kin1 = billiard(num_part, N1, radius, dt1, KK)[:3]\n",
    "    ax[0,0].plot(pos1[0, 0, ::100], pos1[1, 0, ::100])\n",
    "    ax[0,0].set_title(\"dt = \" + str(dt1))\n",
    "    ax[0,0].set_xlabel(\"x\")\n",
    "    ax[0,0].set_ylabel(\"y\")\n",
    "\n",
    "    pos2, pot2, kin2= billiard(num_part, N2, radius, dt2, KK)[:3]\n",
    "    ax[0,1].plot(pos2[0, 0, ::100], pos2[1, 0, ::100])\n",
    "    ax[0,1].set_title(\"dt = \" + str(dt2))\n",
    "    ax[0,1].set_xlabel(\"x\")\n",
    "    ax[0,1].set_ylabel(\"y\")\n",
    "\n",
    "    pos3, pot3, kin3 = billiard(num_part, N3, radius, dt3, KK)[:3]\n",
    "    ax[1,0].plot(pos3[0, 0, ::100], pos3[1, 0, ::100])\n",
    "    ax[1,0].set_title(\"dt = \" + str(dt3))\n",
    "    ax[1,0].set_xlabel(\"x\")\n",
    "    ax[1,0].set_ylabel(\"y\")\n",
    "\n",
    "    pos4, pot4, kin4= billiard(num_part, N4, radius, dt4, KK)[:3]\n",
    "    ax[1,1].plot(pos4[0, 0, ::100], pos4[1, 0, ::100])\n",
    "    ax[1,1].set_title(\"dt = \" + str(dt4))\n",
    "    ax[1,1].set_xlabel(\"x\")\n",
    "    ax[1,1].set_ylabel(\"y\")\n",
    "    plt.show()\n",
    "    \n",
    "    #1b\n",
    "    fig, ax= plt.subplots(2,2, figsize = (15, 10))\n",
    "    fig.suptitle(\"Figure 3\", y = 0)\n",
    "\n",
    "    t1, t2, t3, t4 = np.linspace(0, T, N1), np.linspace(0, T, N2), np.linspace(0, T, N3), np.linspace(0, T, N4)\n",
    "\n",
    "    ax[0,0].plot(t1, kin1+ pot1)\n",
    "    ax[0,0].set_title(\"dt = \" + str(dt1))\n",
    "    ax[0,0].set_xlabel(\"Time[s]\")\n",
    "    ax[0,0].set_ylabel(\"Energy\")\n",
    "    ax[0,0].set_ylim(0, 2)\n",
    "    print(\"For dt = \" + str(dt1) + \"dE / E = \" + str( np.max(np.abs((kin1[0] + pot1[0]) - (kin1 + pot1)) / (kin1[0] + pot1[0]))))\n",
    "\n",
    "    ax[0,1].plot(t2, kin2 + pot2)\n",
    "    ax[0,1].set_title(\"dt = \" + str(dt2))\n",
    "    ax[0,1].set_xlabel(\"Time[s]\")\n",
    "    ax[0,1].set_ylabel(\"Energy\")\n",
    "    ax[0,1].set_ylim(0, 2)\n",
    "    print(\"For dt = \" + str(dt2) + \"dE / E = \" + str( np.max(np.abs((kin2[0] + pot2[0]) - (kin2 + pot2)) / (kin2[0] + pot2[0]))))\n",
    "\n",
    "    ax[1,0].plot(t3, kin3 + pot3)\n",
    "    ax[1,0].set_title(\"dt = \" + str(dt3))\n",
    "    ax[1,0].set_xlabel(\"Time[s]\")\n",
    "    ax[1,0].set_ylabel(\"Energy\")\n",
    "    ax[1,0].set_ylim(0, 2)\n",
    "    print(\"For dt = \" + str(dt3) + \"dE / E = \" + str( np.max(np.abs((kin3[0] + pot3[0]) - (kin3 + pot3)) / (kin3[0] + pot3[0]))))\n",
    "\n",
    "    ax[1,1].plot(t4, kin4 + pot4)\n",
    "    ax[1,1].set_title(\"dt = \" + str(dt4))\n",
    "    ax[1,1].set_xlabel(\"Time[s]\")\n",
    "    ax[1,1].set_ylabel(\"Energy\")\n",
    "    ax[1,1].set_ylim(0, 2)\n",
    "    print(\"For dt = \" + str(dt4) + \"dE / E = \" + str( np.max(np.abs((kin4[0] + pot4[0]) - (kin4 + pot4)) / (kin4[0] + pot4[0]))))\n",
    "    \n",
    "    plt.show()\n",
    "    "
=======
    "radius_a = 3\n",
    "delta_t_a = 0.02\n",
    "\n",
    "def plott_2a(radius, dt, numberOfParticles, timesteps_short, timesteps_long):\n",
    "    pos_a2, Energy_a2, vx_list_a2, vy_list_a2, P_a2 = billiard(numberOfParticles, timesteps_long, radius, dt, 5)\n",
    "    t_list = np.linspace(0,timesteps_long*dt,timesteps_long) \n",
    "\n",
    "    fig = plt.figure(figsize=plt.figaspect(0.25))\n",
    "    fig.suptitle(str(numberOfParticles) + \" particles\")\n",
    "    \n",
    "    ax1 = fig.add_subplot(1,3,1)\n",
    "    ax1.plot(pos_a2[0,0,0:timesteps_long:100], pos_a2[1,0,0:timesteps_long:100],label  = \"particle 1\")\n",
    "    ax1.plot(pos_a2[0,1,0:timesteps_long:100], pos_a2[1,1,0:timesteps_long:100],label = \"particle 2\")\n",
    "    ax1.set_xlim(-radius*1.5,radius*1.5)\n",
    "    ax1.set_ylim(-radius*1.5,radius*1.5)\n",
    "    ax1.set_xlabel(\"x [m]\")\n",
    "    ax1.set_ylabel(\"y [m]\")\n",
    "    ax1.legend()\n",
    "\n",
    "    ax2 = fig.add_subplot(1,3,2)\n",
    "    ax2.plot(pos_a2[0,0,0:timesteps_short:100], pos_a2[1,0,0:timesteps_short:100],label = \"particle 1\")\n",
    "    ax2.plot(pos_a2[0,1,0:timesteps_short:100], pos_a2[1,1,0:timesteps_short:100],label = \"particle 2\")\n",
    "    ax2.set_xlim(-radius*1.5,radius*1.5)\n",
    "    ax2.set_ylim(-radius*1.5,radius*1.5)\n",
    "    ax2.set_xlabel(\"x [m]\")\n",
    "    ax2.set_ylabel(\"y [m]\")\n",
    "    ax2.legend()\n",
    "\n",
    "    ax3 = fig.add_subplot(1,3,3)\n",
    "    ax3.plot(t_list, Energy_a2,label = \"total energy\")\n",
    "    ax3.set_ylim(0,2)\n",
    "    ax3.set_xlabel(\"t [s]\")\n",
    "    ax3.set_ylabel(\"Energy [J]\")\n",
    "    ax3.legend()\n",
    "    plt.show()\n",
    "    \n",
    "plott_2a(radius_a, delta_t_a, 2, 2000, 10000)\n",
    "plott_2a(radius_a, delta_t_a, 5, 2000, 10000)\n",
    "plott_2a(radius_a, delta_t_a, 10, 2000, 10000)"
   ]
  },
  {
   "cell_type": "markdown",
   "metadata": {},
   "source": [
    "## Excercise 2b\n",
    "Figure (XXX) shows a plott of the position of one particle for two, three and ten total particles. The plott marks every hundredth particle position with a dot. In contrast with the one particle case, the dots are distributed evenly. This sugests that all the microstates of the system are equally probable. Therfore the system is ergodic and statistical physics can be used."
   ]
  },
  {
   "cell_type": "code",
   "execution_count": null,
   "metadata": {},
   "outputs": [],
   "source": [
    "radius_b = 3\n",
    "delta_t_b = 0.02\n",
    "\n",
    "def plott_2b(radius, dt, numberOfParticles, timesteps):\n",
    "    pos, Energy, vx_list, vy_list, P = billiard(numberOfParticles, timesteps, radius, dt, 5)\n",
    "    fig = plt.figure()\n",
    "    ax1 = fig.add_subplot(1,1,1)\n",
    "    ax1.scatter(pos[0,0,0:timesteps:50],pos[0,1,0:timesteps:50],s = 5,label = \"particle 1\")\n",
    "    ax1.set_xlim(-radius*1.5,radius*1.5)\n",
    "    ax1.set_ylim(-radius*1.5,radius*1.5)\n",
    "    ax1.set_xlabel(\"x\")\n",
    "    ax1.set_ylabel(\"y\")\n",
    "    plt.show()\n",
    "    \n",
    "plott_2b(radius_b, delta_t_b, 2,10000)\n",
    "plott_2b(radius_b, delta_t_b, 3,10000)\n",
    "plott_2b(radius_b, delta_t_b, 10,10000)"
   ]
  },
  {
   "cell_type": "markdown",
   "metadata": {},
   "source": [
    "## Excercise 2c\n",
    "Figure (XXX) shows the average kinetic energy for each particle after zero, two, twenty and two hundred seconds. Initially the first particle has all the kinetic energy. After some time the energy is evenly spread among the particles, reflecting the fact that there are many more microstates with an even energy distribution."
   ]
  },
  {
   "cell_type": "code",
   "execution_count": null,
   "metadata": {},
   "outputs": [],
   "source": [
    "radius_c = 6\n",
    "delta_t_c = 0.02\n",
    "def plott_2c(radius, dt, numberOfParticles, timesteps,n):\n",
    "    pos, Energy, vx_list, vy_list, P = billiard(numberOfParticles, timesteps, radius, dt, 5, vel_dist = vel_one_particle)\n",
    "    t_list = np.linspace(0,timesteps*dt,timesteps) \n",
    "\n",
    "    \n",
    "    fig = plt.figure(figsize=plt.figaspect(1 / n))\n",
    "    for j in range(1,n):\n",
    "        ax = fig.add_subplot(1,n,j)\n",
    "        ax.set_ylim(0,1)\n",
    "        T_arr = np.zeros(numberOfParticles)\n",
    "        steps = 10**j\n",
    "        for i in range(numberOfParticles):\n",
    "            T_arr[i] = np.sum(vx_list.T[i,0:steps:1]**2 + vy_list.T[i,0:steps:1]**2) / (2 * steps)\n",
    "        par_num = np.linspace(1,numberOfParticles,10)\n",
    "        ax.bar(par_num, T_arr, label = \"average T\")\n",
    "        ax.set_xlabel(\"particle number\")\n",
    "        ax.set_ylabel(\"Energy [J]\")\n",
    "        ax.set_xticks(np.arange(1, 11, step=1))\n",
    "        ax.legend()\n",
    "    plt.tight_layout()\n",
    "    plt.show()\n",
    "plott_2c(radius_c, delta_t_c, 10, 10000,5)"
>>>>>>> 78baa66f381469f6bedda479130d1dba6651bd63
   ]
  },
  {
   "cell_type": "markdown",
   "metadata": {},
   "source": [
<<<<<<< HEAD
    "## Exercise 1b)\n",
    "The total energy should of course stay constant in a closed system, but numerical errors will cause the energy to deviate somewhat from the starting value. In figure 3, the erergy of the four solutions are plotted over time. It can be observed from figure 3 that during collisions, the energy varies slightly before returning to the value it had before the collision. For the time step $dt = 0.02$ that is used in exercise $2$, the relative difference between the starting energy and the maximum deviation is less than a few percent, which is satisfactory for this purpose.  "
=======
    "## Excercise 2d\n",
    "Figure (XXX) shows the velocity probability distribution of one particle in a system of ten particles. The distribution is calculated numerically and plotted against the maxwell-boltzman distribution. The maxwell-boltzman distribution assumes that one particle can be treated as a particle in a canonical ensamble. "
>>>>>>> 78baa66f381469f6bedda479130d1dba6651bd63
   ]
  },
  {
   "cell_type": "code",
   "execution_count": null,
   "metadata": {},
   "outputs": [],
   "source": [
<<<<<<< HEAD
    "plot_1()"
=======
    "delta_t_d= 0.02\n",
    "timesteps_d = 100000\n",
    "radius_2d = 3\n",
    "\n",
    "def plott_2d(radius, dt, numberOfParticles, timesteps):\n",
    "    v_list = np.linspace(-1,1,100)\n",
    "    pos, Energy, vx_list, vy_list, P = billiard(numberOfParticles, timesteps, radius, dt, 5)\n",
    "    thermal_energy = np.sum(vx_list.T[0]**2 + vy_list.T[0]**2) / 2 / timesteps \n",
    "    \n",
    "    fig = plt.figure()\n",
    "    ax = fig.add_subplot(1,1,1)\n",
    "    ax.hist(vx_list.T[0], bins = 20, normed = 1,label = \"numerical velocity\")\n",
    "    ax.plot(v_list, np.sqrt(1 / (2 * np.pi * thermal_energy))*np.exp(-v_list**2 / (2 * thermal_energy)), label = \"theoretical value\")\n",
    "    ax.set_xlabel(\"velocity [m/s]\")\n",
    "    ax.set_ylabel(\"probability\")\n",
    "    plt.legend()\n",
    "    plt.show()\n",
    "    return P\n",
    "P = plott_2d(radius_2d, delta_t_d, 10, timesteps_d)"
>>>>>>> 78baa66f381469f6bedda479130d1dba6651bd63
   ]
  },
  {
   "cell_type": "markdown",
   "metadata": {},
   "source": [
<<<<<<< HEAD
    "## Exercise 1c) \n",
    "A system of only one particle will in general not follow a trajectory where the particle traverses all of space, which means that the ergodic hypothesis does not hold. This can be observed from figure 1. Thus, statistical mechanics can not be applied to this system. "
=======
    "## Excercise 2e"
>>>>>>> 78baa66f381469f6bedda479130d1dba6651bd63
   ]
  },
  {
   "cell_type": "code",
   "execution_count": null,
   "metadata": {},
   "outputs": [],
<<<<<<< HEAD
   "source": []
=======
   "source": [
    "P_analytic = number_of_particles * thermal_energy / (2 * np.pi * radius)\n",
    "print(P_analytic)\n",
    "print(P)"
   ]
>>>>>>> 78baa66f381469f6bedda479130d1dba6651bd63
  }
 ],
 "metadata": {
  "kernelspec": {
   "display_name": "Python 3",
   "language": "python",
   "name": "python3"
  },
  "language_info": {
   "codemirror_mode": {
    "name": "ipython",
    "version": 3
   },
   "file_extension": ".py",
   "mimetype": "text/x-python",
   "name": "python",
   "nbconvert_exporter": "python",
   "pygments_lexer": "ipython3",
<<<<<<< HEAD
   "version": "3.7.4"
=======
   "version": "3.7.1"
>>>>>>> 78baa66f381469f6bedda479130d1dba6651bd63
  }
 },
 "nbformat": 4,
 "nbformat_minor": 2
}
